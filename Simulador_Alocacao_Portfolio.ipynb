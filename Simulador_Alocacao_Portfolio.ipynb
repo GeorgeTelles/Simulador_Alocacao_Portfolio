{
  "cells": [
    {
      "cell_type": "markdown",
      "metadata": {
        "id": "view-in-github",
        "colab_type": "text"
      },
      "source": [
        "<a href=\"https://colab.research.google.com/github/GeorgeTelles/Simulador_Alocacao_Portfolio/blob/main/Simulador_Alocacao_Portfolio.ipynb\" target=\"_parent\"><img src=\"https://colab.research.google.com/assets/colab-badge.svg\" alt=\"Open In Colab\"/></a>"
      ]
    },
    {
      "cell_type": "markdown",
      "source": [
        "<div>\n",
        "  <img src=\"https://raw.githubusercontent.com/GeorgeTelles/georgetelles/f69531ec6b293b5148563588a764c010015d315e/logo_clara.png\" alt=\"logo clara\" width=\"300\" style=\"display: inline-block; vertical-align: top; margin-right: 10px;\">\n",
        "  <img src=\"https://raw.githubusercontent.com/GeorgeTelles/georgetelles/f69531ec6b293b5148563588a764c010015d315e/logo_dark.png\" alt=\"logo dark\" width=\"300\" style=\"display: inline-block; vertical-align: top;\">\n",
        "</div>"
      ],
      "metadata": {
        "id": "ZGiGRrcK5Aa0"
      }
    },
    {
      "cell_type": "markdown",
      "metadata": {
        "id": "5D7vn-0-3wlK"
      },
      "source": [
        "# Simulador de Alocação de Portfólio\n",
        "\n",
        "Conteúdo:\n",
        "* Carregar os dados do Yahoo Finance\n",
        "* Calcular retorno acumulado\n",
        "* Determinar peso de cada ativo\n",
        "* Determinar Capital a ser alocado\n",
        "* Simular posição de cada ativo ao longo do tempo\n",
        "* Visualizar a evolução do portifolio ao longo do tempo\n",
        "* Estatísticas do Portfólio\n",
        "* Exportação dos dados do Portfólio"
      ]
    },
    {
      "cell_type": "markdown",
      "source": [
        "# Carregando as bibliotecas"
      ],
      "metadata": {
        "id": "0j3uY9sI5Fsq"
      }
    },
    {
      "cell_type": "code",
      "execution_count": null,
      "metadata": {
        "id": "OTKuAQ4_1Axq"
      },
      "outputs": [],
      "source": [
        "\n",
        "import pandas as pd\n",
        "import numpy as np\n",
        "\n",
        "import yfinance as yf\n",
        "\n",
        "import seaborn as sns\n",
        "sns.set()\n"
      ]
    },
    {
      "cell_type": "markdown",
      "metadata": {
        "id": "DHWwaWek4uSe"
      },
      "source": [
        "# Carregando dados das cotações dos ativos via Yahoo Finance"
      ]
    },
    {
      "cell_type": "code",
      "execution_count": null,
      "metadata": {
        "id": "TQcUaeggF_25"
      },
      "outputs": [],
      "source": [
        "bvsp = yf.download(\"^BVSP\")\n",
        "itub4 = yf.download(\"ITUB4.SA\")\n",
        "mglu3 = yf.download(\"MGLU3.SA\")\n",
        "petr4 = yf.download(\"PETR4.SA\")\n",
        "abev3 = yf.download(\"ABEV3.SA\")"
      ]
    },
    {
      "cell_type": "code",
      "execution_count": null,
      "metadata": {
        "id": "CrL_oDfl1meX"
      },
      "outputs": [],
      "source": [
        "# Criando data Frames com Adj Close para cada ação a partir de 2018\n",
        "itub = itub4.loc['2018-01-01':'2024-07-30' ,['Adj Close']]\n",
        "mglu = mglu3.loc['2018-01-01':'2024-07-30' ,['Adj Close']]\n",
        "petr = petr4.loc['2018-01-01':'2024-07-30' ,['Adj Close']]\n",
        "vvar = abev3.loc['2018-01-01':'2024-07-30' ,['Adj Close']]"
      ]
    },
    {
      "cell_type": "markdown",
      "metadata": {
        "id": "pLkVnuxK4uSf"
      },
      "source": [
        "# Calculando o retorno acumulado a partir de 2019"
      ]
    },
    {
      "cell_type": "code",
      "execution_count": null,
      "metadata": {
        "id": "iucWq4N22i7m"
      },
      "outputs": [],
      "source": [
        "for acao in [itub, mglu, petr, vvar]:\n",
        "    acao['Retorno Acumulado'] = (acao['Adj Close'] / acao.iloc[0]['Adj Close'])"
      ]
    },
    {
      "cell_type": "markdown",
      "metadata": {
        "id": "E5mcyHlO4uSf"
      },
      "source": [
        "# Determinando o peso de cada ativo"
      ]
    },
    {
      "cell_type": "code",
      "execution_count": null,
      "metadata": {
        "id": "fiC14WbfVpzj"
      },
      "outputs": [],
      "source": [
        "pesos = [0.25, 0.25, 0.25, 0.25]\n",
        "\n",
        "itub['Alocação'] = itub['Retorno Acumulado'] * pesos[0]\n",
        "mglu['Alocação'] = mglu['Retorno Acumulado'] * pesos[1]\n",
        "petr['Alocação'] = petr['Retorno Acumulado'] * pesos[2]\n",
        "vvar['Alocação'] = vvar['Retorno Acumulado'] * pesos[3]"
      ]
    },
    {
      "cell_type": "markdown",
      "metadata": {
        "id": "vTKcg82M4uSg"
      },
      "source": [
        "# Determinando Capital alocado"
      ]
    },
    {
      "cell_type": "code",
      "execution_count": null,
      "metadata": {
        "id": "Ka98DJda5so5"
      },
      "outputs": [],
      "source": [
        "# Investimento de 10.000\n",
        "\n",
        "for acao in (itub, mglu, petr, vvar):\n",
        "  acao['Investimento'] = acao['Alocação'] * 10000"
      ]
    },
    {
      "cell_type": "markdown",
      "metadata": {
        "id": "mx1tPNLD4uSg"
      },
      "source": [
        "# Posição total do Portfolio"
      ]
    },
    {
      "cell_type": "code",
      "execution_count": null,
      "metadata": {
        "id": "kJIN6M2h58uv"
      },
      "outputs": [],
      "source": [
        "portfolio = {'ITUB posição': itub['Investimento'],\n",
        "             'MGLU posição': mglu['Investimento'],\n",
        "             'PETR posição': petr['Investimento'],\n",
        "             'ABEV posição': vvar['Investimento']}\n",
        "\n",
        "portfolio_investimento = pd.DataFrame(data = portfolio)"
      ]
    },
    {
      "cell_type": "code",
      "execution_count": null,
      "metadata": {
        "id": "u7Jg6-O166pl"
      },
      "outputs": [],
      "source": [
        "portfolio_investimento"
      ]
    },
    {
      "cell_type": "code",
      "execution_count": null,
      "metadata": {
        "id": "31zwxS6z7KLa"
      },
      "outputs": [],
      "source": [
        "# Posição total do investimento\n",
        "portfolio_investimento['Total'] = portfolio_investimento.sum(axis=1)\n",
        "portfolio_investimento"
      ]
    },
    {
      "cell_type": "markdown",
      "metadata": {
        "id": "81Oj-yPE4uSh"
      },
      "source": [
        "# Visualização do Portfolio ao Longo do tempo"
      ]
    },
    {
      "cell_type": "code",
      "execution_count": null,
      "metadata": {
        "id": "wQIXtC2G7ZMz"
      },
      "outputs": [],
      "source": [
        "portfolio_investimento['Total'].plot(title = 'Investimento Total do Portfolio', figsize = (10, 7));"
      ]
    },
    {
      "cell_type": "markdown",
      "metadata": {
        "id": "pIKoRVOj4uSh"
      },
      "source": [
        "# Visualização do Portfolio ao Longo do tempo separado por ativos"
      ]
    },
    {
      "cell_type": "code",
      "execution_count": null,
      "metadata": {
        "id": "_J7bjlg-7Zqx"
      },
      "outputs": [],
      "source": [
        "portfolio_investimento.drop('Total',axis=1).plot(kind='line', figsize = (10,7));"
      ]
    },
    {
      "cell_type": "code",
      "execution_count": null,
      "metadata": {
        "id": "FdnSyGlM8h9E"
      },
      "outputs": [],
      "source": [
        "portfolio_investimento.tail()"
      ]
    },
    {
      "cell_type": "markdown",
      "metadata": {
        "id": "tO0Yr_N44uSi"
      },
      "source": [
        "# Retorno Acumulado em Porcentagem"
      ]
    },
    {
      "cell_type": "code",
      "execution_count": null,
      "metadata": {
        "id": "XB8xBOAs8lCt"
      },
      "outputs": [],
      "source": [
        "(portfolio_investimento.iloc[-1] / portfolio_investimento.iloc[0] - 1) * 100"
      ]
    },
    {
      "cell_type": "code",
      "execution_count": null,
      "metadata": {
        "id": "hgMpQd9m9-39"
      },
      "outputs": [],
      "source": [
        "# Retorno acumulado do Portfolio em %\n",
        "ret_acumulado = 100 * (portfolio_investimento['Total'].iloc[-1] / portfolio_investimento['Total'].iloc[0] - 1)\n",
        "\n",
        "print('O retorno acumulado percentual do Portfólio foi de',ret_acumulado)"
      ]
    },
    {
      "cell_type": "markdown",
      "metadata": {
        "id": "VdxD01Ju4uSj"
      },
      "source": [
        "# Calculando Retorno ao longo do Tempo"
      ]
    },
    {
      "cell_type": "code",
      "execution_count": null,
      "metadata": {
        "id": "oWPEbvR_9DQ-"
      },
      "outputs": [],
      "source": [
        "portfolio_investimento['Retorno'] = portfolio_investimento['Total'].pct_change(1) * 100"
      ]
    },
    {
      "cell_type": "code",
      "execution_count": null,
      "metadata": {
        "id": "P-c6tyfo9wcE"
      },
      "outputs": [],
      "source": [
        "portfolio_investimento.tail()"
      ]
    },
    {
      "cell_type": "markdown",
      "metadata": {
        "id": "UPdO2ALYg_6Q"
      },
      "source": [
        "# Estatísticas do Portfólio"
      ]
    },
    {
      "cell_type": "code",
      "execution_count": null,
      "metadata": {
        "id": "1zLOs-HY_WfU"
      },
      "outputs": [],
      "source": [
        "portfolio_investimento['Retorno'].describe()"
      ]
    },
    {
      "cell_type": "markdown",
      "metadata": {
        "id": "5fFNQwsh4uSk"
      },
      "source": [
        "# exportando a planilha portfolio_investimento no formato .csv"
      ]
    },
    {
      "cell_type": "code",
      "execution_count": null,
      "metadata": {
        "id": "U0Nglu2YfTgX"
      },
      "outputs": [],
      "source": [
        "portfolio_investimento.to_csv('portfolio_investimento.csv', encoding = 'UTF-8')"
      ]
    }
  ],
  "metadata": {
    "colab": {
      "collapsed_sections": [
        "q2NQhniNgnZz"
      ],
      "provenance": [],
      "include_colab_link": true
    },
    "kernelspec": {
      "display_name": "Python 3",
      "name": "python3"
    },
    "language_info": {
      "codemirror_mode": {
        "name": "ipython",
        "version": 3
      },
      "file_extension": ".py",
      "mimetype": "text/x-python",
      "name": "python",
      "nbconvert_exporter": "python",
      "pygments_lexer": "ipython3",
      "version": "3.12.4"
    }
  },
  "nbformat": 4,
  "nbformat_minor": 0
}